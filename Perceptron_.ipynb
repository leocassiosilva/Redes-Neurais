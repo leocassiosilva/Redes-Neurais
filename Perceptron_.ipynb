{
  "nbformat": 4,
  "nbformat_minor": 0,
  "metadata": {
    "colab": {
      "name": "Perceptron_.ipynb",
      "provenance": [],
      "collapsed_sections": []
    },
    "kernelspec": {
      "name": "python3",
      "display_name": "Python 3"
    },
    "language_info": {
      "name": "python"
    }
  },
  "cells": [
    {
      "cell_type": "markdown",
      "source": [
        "**Rede Neural Perceptron**"
      ],
      "metadata": {
        "id": "Jwx7SiacfMZf"
      }
    },
    {
      "cell_type": "markdown",
      "source": [
        "...\n",
        "  implementação da rede neural Perceptron\n",
        "\n",
        "  w = w + N *(d(k) - y) * x(k)\n",
        "..."
      ],
      "metadata": {
        "id": "21bPD1b4tqC3"
      }
    },
    {
      "cell_type": "code",
      "source": [
        "import random, copy\n"
      ],
      "metadata": {
        "id": "_MBkwNpVj_Y3"
      },
      "execution_count": 6,
      "outputs": []
    },
    {
      "cell_type": "code",
      "source": [
        "class Perceptron:\n",
        "\n",
        "  def __init__ (self, amostras, saidas, taxa_aprendizado=0.1, epocas=1000, limiar=-1):\n",
        "    self.amostras = amostras # todas as amostras\n",
        "    self.saidas = saidas #saidas respecticas de cada amostra\n",
        "    self.taxa_aprendizado = taxa_aprendizado #taxa de aprendizado (entre 0 e 1)\n",
        "    self.epocas = epocas #numero de epocas\n",
        "    self.limiar = limiar \n",
        "    self.num_amostras =  len(amostras) #quantidade de amostras\n",
        "    self.num_amostra = len(amostras[0]) #quantidade de elementos por amostra\n",
        "    self.pesos = [] #vetor de pesos\n",
        "\n",
        "  #função para treinar a rede\n",
        "  def treinar(self):\n",
        "    \n",
        "    #adiciona -1 para cada uma das amostras\n",
        "    for amostra in self.amostras:\n",
        "      amostra.insert(0, -1)\n",
        "\n",
        "    # inica vetor de pesos com valores aleatórios\n",
        "    for i in range(self.num_amostra):\n",
        "      self.pesos.append(random.random())\n",
        "\n",
        "    #insere o limiar no vetor de pesos\n",
        "    self.pesos.insert(0, self.limiar)\n",
        "\n",
        "    #inicia o contados de epocas\n",
        "    num_epocas = 0\n",
        "\n",
        "    while True:\n",
        "      erro = False # erro inicialmente inexiste\n",
        "\n",
        "      #para todas as amostras de treinamento\n",
        "      for i in range(self.num_amostras):\n",
        "        u = 0\n",
        "\n",
        "        #realiza o somatório, o limite (self.amostra + 1)\n",
        "        #é porque foi inserido o -1 para cada amostra\n",
        "\n",
        "        for j in range(self.num_amostra + 1):\n",
        "          u+=self.pesos[j] * self.amostras[i][j]\n",
        "\n",
        "        #obtém a saída da rede utilizando a função de ativação \n",
        "        y = self.sinal(u)\n",
        "\n",
        "        #verifica se a saida da rede é diferente da desejada\n",
        "        if y != self.saidas[i]:\n",
        "\n",
        "          #calcula o erro:  subtração entre a saida desejada e a saida da rede\n",
        "          erro_aux = self.saidas[i] - y\n",
        "\n",
        "          #faz o ajuste dos pesos para cada elemento da amostra\n",
        "          for j in range(self.num_amostra + 1):\n",
        "            self.pesos[j] = self.pesos[j] + self.taxa_aprendizado * erro_aux * self.amostras[i][j]\n",
        "\n",
        "          erro = True #Ainda existe erro\n",
        "      \n",
        "      #incrementa o numero de epocas\n",
        "      num_epocas +=1\n",
        "\n",
        "\n",
        "      #criterio de paradas é pelo numero de epocas ou se não existir erros\n",
        "      if num_epocas > self.epocas or not erro:\n",
        "        break\n",
        "\n",
        "  #função utilizada para testar a rede\n",
        "  #recebe uma amostra a ser classificada e os nomes das classes \n",
        "  #utiliza a função sinal, se é -1 é classe 1, senão é class2\n",
        "  def testar(self, amostra, class1, class2):\n",
        "\n",
        "    #insere o -1 \n",
        "    amostra.insert(0,-1)\n",
        "\n",
        "    #utiliza o vetor de pesos que foi ajustado na fase de treinamento\n",
        "    u = 0 \n",
        "    for i in range(self.num_amostra + 1):\n",
        "      u+=self.pesos[i] * amostra[i]\n",
        "\n",
        "    #calcula a saida da rede \n",
        "    y = self.sinal(u)\n",
        "\n",
        "    #verifica a qual classe pertence\n",
        "    if y == -1: \n",
        "      print(\"A mostra pertence a class %s\" % class1)\n",
        "    else:\n",
        "      print(\"A mostra pertence a class %s\" % class2)\n",
        "\n",
        "\n",
        "\n",
        "  #função de ativação: degrau bipolar(sinal)\n",
        "  def sinal(self, u):\n",
        "    return 1 if u >= 0 else -1 \n",
        "\n",
        "\n",
        "\n",
        "print('\\nA ouB?\\n')\n",
        "\n",
        "#amostras: um total de quatro amostras \n",
        "amostras = [[0.1, 0.4, 0.7], [0.3, 0.7, 0.2], [0.6, 0.9, 0.8], [0.5, 0.7, 0.1]]\n",
        "\n",
        "#saidas desejadas de cada amostra \n",
        "\n",
        "saidas = [1, -1, -1, 1]\n",
        "\n",
        "#conjunto de amostra de testes \n",
        "\n",
        "testes = copy.deepcopy(amostras)\n",
        "\n",
        "\n",
        "#cria uma rede Perceptron\n",
        "rede = Perceptron(amostras=amostras, saidas=saidas, taxa_aprendizado=0.1, epocas=1000)\n",
        "\n",
        "#treina a rede\n",
        "rede.treinar()\n",
        "\n",
        "#testando a rede\n",
        "for teste in testes:\n",
        "  rede.testar(teste, 'A', 'B')"
      ],
      "metadata": {
        "colab": {
          "base_uri": "https://localhost:8080/"
        },
        "id": "8n4eXmdNgVzF",
        "outputId": "d8fac873-9446-4517-8875-5ed47caafa4b"
      },
      "execution_count": 9,
      "outputs": [
        {
          "output_type": "stream",
          "name": "stdout",
          "text": [
            "\n",
            "A ouB?\n",
            "\n",
            "A mostra pertence a class B\n",
            "A mostra pertence a class A\n",
            "A mostra pertence a class A\n",
            "A mostra pertence a class B\n"
          ]
        }
      ]
    },
    {
      "cell_type": "code",
      "source": [
        ""
      ],
      "metadata": {
        "id": "wf19m4XpqRTR"
      },
      "execution_count": null,
      "outputs": []
    }
  ]
}